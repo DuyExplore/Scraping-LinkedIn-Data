{
 "cells": [
  {
   "cell_type": "code",
   "execution_count": 1,
   "metadata": {},
   "outputs": [
    {
     "ename": "ModuleNotFoundError",
     "evalue": "No module named 'selenium'",
     "output_type": "error",
     "traceback": [
      "\u001b[1;31m---------------------------------------------------------------------------\u001b[0m",
      "\u001b[1;31mModuleNotFoundError\u001b[0m                       Traceback (most recent call last)",
      "\u001b[1;32m~\\AppData\\Local\\Temp/ipykernel_4036/606711181.py\u001b[0m in \u001b[0;36m<module>\u001b[1;34m\u001b[0m\n\u001b[0;32m      1\u001b[0m \u001b[1;31m# import libraries\u001b[0m\u001b[1;33m\u001b[0m\u001b[1;33m\u001b[0m\u001b[0m\n\u001b[0;32m      2\u001b[0m \u001b[1;33m\u001b[0m\u001b[0m\n\u001b[1;32m----> 3\u001b[1;33m \u001b[1;32mfrom\u001b[0m \u001b[0mselenium\u001b[0m \u001b[1;32mimport\u001b[0m \u001b[0mwebdriver\u001b[0m\u001b[1;33m\u001b[0m\u001b[1;33m\u001b[0m\u001b[0m\n\u001b[0m\u001b[0;32m      4\u001b[0m \u001b[1;32mfrom\u001b[0m \u001b[0mselenium\u001b[0m\u001b[1;33m.\u001b[0m\u001b[0mwebdriver\u001b[0m\u001b[1;33m.\u001b[0m\u001b[0mcommon\u001b[0m\u001b[1;33m.\u001b[0m\u001b[0mkeys\u001b[0m \u001b[1;32mimport\u001b[0m \u001b[0mKeys\u001b[0m\u001b[1;33m\u001b[0m\u001b[1;33m\u001b[0m\u001b[0m\n\u001b[0;32m      5\u001b[0m \u001b[1;32mfrom\u001b[0m \u001b[0mbs4\u001b[0m \u001b[1;32mimport\u001b[0m \u001b[0mBeautifulSoup\u001b[0m\u001b[1;33m\u001b[0m\u001b[1;33m\u001b[0m\u001b[0m\n",
      "\u001b[1;31mModuleNotFoundError\u001b[0m: No module named 'selenium'"
     ]
    }
   ],
   "source": [
    "# import libraries \n",
    "\n",
    "from selenium import webdriver\n",
    "from selenium.webdriver.common.keys import Keys\n",
    "from bs4 import BeautifulSoup\n",
    "from time import sleep\n",
    "\n",
    "print('-Finish full package')"
   ]
  },
  {
   "cell_type": "code",
   "execution_count": 49,
   "metadata": {},
   "outputs": [],
   "source": [
    "credential = open('login_credential.txt')\n",
    "line = credential.readlines()\n",
    "username = line[0]\n",
    "password = line[1]"
   ]
  },
  {
   "cell_type": "code",
   "execution_count": 59,
   "metadata": {},
   "outputs": [
    {
     "name": "stderr",
     "output_type": "stream",
     "text": [
      "C:\\Users\\Admin\\AppData\\Local\\Temp\\ipykernel_6504\\666611445.py:4: DeprecationWarning: executable_path has been deprecated, please pass in a Service object\n",
      "  driver = webdriver.Chrome(r\"C:\\Users\\Default\\chromedriver.exe\")\n"
     ]
    },
    {
     "name": "stdout",
     "output_type": "stream",
     "text": [
      "- Finish initializing a driver\n"
     ]
    },
    {
     "name": "stderr",
     "output_type": "stream",
     "text": [
      "C:\\Users\\Admin\\AppData\\Local\\Temp\\ipykernel_6504\\666611445.py:10: DeprecationWarning: find_element_by_* commands are deprecated. Please use find_element() instead\n",
      "  email_field = driver.find_element_by_id(\"username\")\n"
     ]
    },
    {
     "name": "stdout",
     "output_type": "stream",
     "text": [
      "- Finish key in username\n"
     ]
    },
    {
     "name": "stderr",
     "output_type": "stream",
     "text": [
      "C:\\Users\\Admin\\AppData\\Local\\Temp\\ipykernel_6504\\666611445.py:15: DeprecationWarning: find_element_by_name is deprecated. Please use find_element(by=By.NAME, value=name) instead\n",
      "  password_field = driver.find_element_by_name(\"session_password\")\n"
     ]
    },
    {
     "name": "stdout",
     "output_type": "stream",
     "text": [
      "- Finish key in password\n"
     ]
    },
    {
     "name": "stderr",
     "output_type": "stream",
     "text": [
      "C:\\Users\\Admin\\AppData\\Local\\Temp\\ipykernel_6504\\666611445.py:20: DeprecationWarning: find_element_by_xpath is deprecated. Please use find_element(by=By.XPATH, value=xpath) instead\n",
      "  login_field = driver.find_element_by_xpath('//*[@id=\"organic-div\"]/form/div[3]/button')\n"
     ]
    },
    {
     "name": "stdout",
     "output_type": "stream",
     "text": [
      "- Finish logging in\n"
     ]
    },
    {
     "name": "stderr",
     "output_type": "stream",
     "text": [
      "C:\\Users\\Admin\\AppData\\Local\\Temp\\ipykernel_6504\\666611445.py:28: DeprecationWarning: find_element_by_xpath is deprecated. Please use find_element(by=By.XPATH, value=xpath) instead\n",
      "  search_field = driver.find_element_by_xpath('//*[@id=\"global-nav-typeahead\"]/input')\n"
     ]
    },
    {
     "name": "stdout",
     "output_type": "stream",
     "text": [
      "Finish searching...\n"
     ]
    }
   ],
   "source": [
    "# Step 1: Login to Linkedin\n",
    "\n",
    "# Open Chrome and login LinkedIn login site\n",
    "driver = webdriver.Chrome(r\"C:\\Users\\Default\\chromedriver.exe\")\n",
    "url = 'https://www.linkedin.com/login'\n",
    "driver.get(url)\n",
    "print('- Finish initializing a driver')\n",
    "sleep(2)\n",
    "# Key in username\n",
    "email_field = driver.find_element_by_id(\"username\")\n",
    "email_field.send_keys(username)\n",
    "print('- Finish key in username')\n",
    "sleep(2)\n",
    "# Key in password\n",
    "password_field = driver.find_element_by_name(\"session_password\")\n",
    "password_field.send_keys(password)\n",
    "print('- Finish key in password')\n",
    "sleep(2)\n",
    "# Click login button\n",
    "login_field = driver.find_element_by_xpath('//*[@id=\"organic-div\"]/form/div[3]/button')\n",
    "login_field.click()\n",
    "print('- Finish logging in')\n",
    "sleep(2)\n",
    "\n",
    "# Step 2: Search for the profile we want to crawl\n",
    "\n",
    "# Locate the search bar element\n",
    "search_field = driver.find_element_by_xpath('//*[@id=\"global-nav-typeahead\"]/input')\n",
    "\n",
    "# Input the search query to the search bar\n",
    "#search_query = input('What do you to scrape?')\n",
    "search_field.send_keys('data analyst people')\n",
    "\n",
    "# Search \n",
    "search_field.send_keys(Keys.RETURN) \n",
    "\n",
    "# Print the processing\n",
    "print('Finish searching...')\n",
    "\n"
   ]
  },
  {
   "cell_type": "code",
   "execution_count": 60,
   "metadata": {},
   "outputs": [
    {
     "name": "stderr",
     "output_type": "stream",
     "text": [
      "C:\\Users\\Admin\\AppData\\Local\\Temp\\ipykernel_6504\\2820703624.py:2: DeprecationWarning: find_element_by_xpath is deprecated. Please use find_element(by=By.XPATH, value=xpath) instead\n",
      "  filter_search = driver.find_element_by_xpath('//*[@id=\"main\"]/div/div/div[1]/div[2]/a')\n"
     ]
    }
   ],
   "source": [
    "# Filter result\n",
    "filter_search = driver.find_element_by_xpath('//*[@id=\"main\"]/div/div/div[1]/div[2]/a')\n",
    "filter_search.click()\n"
   ]
  },
  {
   "cell_type": "code",
   "execution_count": 77,
   "metadata": {},
   "outputs": [
    {
     "name": "stdout",
     "output_type": "stream",
     "text": [
      "['https://www.linkedin.com/search/results/people/headless', 'https://www.linkedin.com/search/results/all/', 'https://www.linkedin.com/in/trinh-le-247994b4', 'https://www.linkedin.com/in/thao-nguyen-791980113', 'https://www.linkedin.com/in/thanhdiep23', 'https://www.linkedin.com/in/khangnguyennhat20', 'https://www.linkedin.com/in/tuanhlam', 'https://www.linkedin.com/in/trucnguyen1112', 'https://www.linkedin.com/in/kevinkhang2909']\n"
     ]
    }
   ],
   "source": [
    "# Step 3: Scrape the URLs of the profiles\n",
    "def GetURL():\n",
    "    page_source = BeautifulSoup(driver.page_source)\n",
    "    profiles = page_source.find_all('a', class_= 'app-aware-link')\n",
    "    all_profile_URL = []\n",
    "    for profile in profiles:\n",
    "        profile_URL = profile.get('href')\n",
    "        profile_URL = profile_URL.split('?', 1)[0]\n",
    "        all_profile_URL.append(profile_URL)\n",
    "        if profile_URL not in all_profile_URL:\n",
    "            all_profile_URL.append(profile_URL)\n",
    "    all_profile_URL = list(set(all_profile_URL))\n",
    "    return all_profile_URL\n",
    "\n",
    "print(GetURL())"
   ]
  },
  {
   "cell_type": "code",
   "execution_count": 27,
   "metadata": {},
   "outputs": [
    {
     "name": "stdout",
     "output_type": "stream",
     "text": [
      "https://www.linkedin.com/in/thao-nguyen-791980113\n"
     ]
    }
   ],
   "source": [
    "# profile_ID = \"/in/thao-nguyen-791980113\"\n",
    "# profile_url = \"https://www.linkedin.com\" + profile_ID\n",
    "# print(profile_url)"
   ]
  },
  {
   "cell_type": "code",
   "execution_count": 108,
   "metadata": {},
   "outputs": [
    {
     "name": "stderr",
     "output_type": "stream",
     "text": [
      "C:\\Users\\Admin\\AppData\\Local\\Temp\\ipykernel_6504\\3279474655.py:8: DeprecationWarning: find_element_by_class_name is deprecated. Please use find_element(by=By.CLASS_NAME, value=name) instead\n",
      "  next_button = driver.find_element_by_class_name(\"artdeco-pagination__button--next\")\n"
     ]
    },
    {
     "ename": "NoSuchElementException",
     "evalue": "Message: no such element: Unable to locate element: {\"method\":\"css selector\",\"selector\":\".artdeco-pagination__button--next\"}\n  (Session info: chrome=101.0.4951.41)\nStacktrace:\nBacktrace:\n\tOrdinal0 [0x00378BD3+2395091]\n\tOrdinal0 [0x0030ACA1+1944737]\n\tOrdinal0 [0x001FD008+839688]\n\tOrdinal0 [0x00229BFD+1022973]\n\tOrdinal0 [0x00229EBB+1023675]\n\tOrdinal0 [0x00256A92+1206930]\n\tOrdinal0 [0x00244C04+1133572]\n\tOrdinal0 [0x00254D62+1199458]\n\tOrdinal0 [0x002449D6+1133014]\n\tOrdinal0 [0x0021EF76+978806]\n\tOrdinal0 [0x0021FE86+982662]\n\tGetHandleVerifier [0x0052C912+1719138]\n\tGetHandleVerifier [0x005DB2CD+2434333]\n\tGetHandleVerifier [0x00414001+569937]\n\tGetHandleVerifier [0x00413066+565942]\n\tOrdinal0 [0x0031265B+1975899]\n\tOrdinal0 [0x003172A8+1995432]\n\tOrdinal0 [0x00317395+1995669]\n\tOrdinal0 [0x003202F1+2032369]\n\tBaseThreadInitThunk [0x772EFA29+25]\n\tRtlGetAppContainerNamedObjectPath [0x77657A7E+286]\n\tRtlGetAppContainerNamedObjectPath [0x77657A4E+238]\n",
     "output_type": "error",
     "traceback": [
      "\u001b[1;31m---------------------------------------------------------------------------\u001b[0m",
      "\u001b[1;31mNoSuchElementException\u001b[0m                    Traceback (most recent call last)",
      "\u001b[1;32mc:\\Users\\Admin\\Desktop\\LinkedIn data\\scraping_data.ipynb Cell 7'\u001b[0m in \u001b[0;36m<cell line: 3>\u001b[1;34m()\u001b[0m\n\u001b[0;32m      <a href='vscode-notebook-cell:/c%3A/Users/Admin/Desktop/LinkedIn%20data/scraping_data.ipynb#ch0000007?line=5'>6</a>\u001b[0m driver\u001b[39m.\u001b[39mexecute_script(\u001b[39m'\u001b[39m\u001b[39mwindow.scrollTo(0, document.body.scrollHeight);\u001b[39m\u001b[39m'\u001b[39m) \u001b[39m#scroll to the end of the page\u001b[39;00m\n\u001b[0;32m      <a href='vscode-notebook-cell:/c%3A/Users/Admin/Desktop/LinkedIn%20data/scraping_data.ipynb#ch0000007?line=6'>7</a>\u001b[0m \u001b[39m#sleep(3)\u001b[39;00m\n\u001b[1;32m----> <a href='vscode-notebook-cell:/c%3A/Users/Admin/Desktop/LinkedIn%20data/scraping_data.ipynb#ch0000007?line=7'>8</a>\u001b[0m next_button \u001b[39m=\u001b[39m driver\u001b[39m.\u001b[39;49mfind_element_by_class_name(\u001b[39m\"\u001b[39;49m\u001b[39martdeco-pagination__button--next\u001b[39;49m\u001b[39m\"\u001b[39;49m)\n\u001b[0;32m      <a href='vscode-notebook-cell:/c%3A/Users/Admin/Desktop/LinkedIn%20data/scraping_data.ipynb#ch0000007?line=8'>9</a>\u001b[0m driver\u001b[39m.\u001b[39mexecute_script(\u001b[39m\"\u001b[39m\u001b[39marguments[0].click();\u001b[39m\u001b[39m\"\u001b[39m, next_button)\n\u001b[0;32m     <a href='vscode-notebook-cell:/c%3A/Users/Admin/Desktop/LinkedIn%20data/scraping_data.ipynb#ch0000007?line=9'>10</a>\u001b[0m URLs_all_page \u001b[39m=\u001b[39m URLs_all_page \u001b[39m+\u001b[39m URLs_one_page\n",
      "File \u001b[1;32m~\\AppData\\Local\\Programs\\Python\\Python310\\lib\\site-packages\\selenium\\webdriver\\remote\\webdriver.py:761\u001b[0m, in \u001b[0;36mWebDriver.find_element_by_class_name\u001b[1;34m(self, name)\u001b[0m\n\u001b[0;32m    <a href='file:///c%3A/Users/Admin/AppData/Local/Programs/Python/Python310/lib/site-packages/selenium/webdriver/remote/webdriver.py?line=738'>739</a>\u001b[0m \u001b[39m\"\"\"\u001b[39;00m\n\u001b[0;32m    <a href='file:///c%3A/Users/Admin/AppData/Local/Programs/Python/Python310/lib/site-packages/selenium/webdriver/remote/webdriver.py?line=739'>740</a>\u001b[0m \u001b[39mFinds an element by class name.\u001b[39;00m\n\u001b[0;32m    <a href='file:///c%3A/Users/Admin/AppData/Local/Programs/Python/Python310/lib/site-packages/selenium/webdriver/remote/webdriver.py?line=740'>741</a>\u001b[0m \n\u001b[1;32m   (...)\u001b[0m\n\u001b[0;32m    <a href='file:///c%3A/Users/Admin/AppData/Local/Programs/Python/Python310/lib/site-packages/selenium/webdriver/remote/webdriver.py?line=753'>754</a>\u001b[0m \u001b[39m        element = driver.find_element_by_class_name('foo')\u001b[39;00m\n\u001b[0;32m    <a href='file:///c%3A/Users/Admin/AppData/Local/Programs/Python/Python310/lib/site-packages/selenium/webdriver/remote/webdriver.py?line=754'>755</a>\u001b[0m \u001b[39m\"\"\"\u001b[39;00m\n\u001b[0;32m    <a href='file:///c%3A/Users/Admin/AppData/Local/Programs/Python/Python310/lib/site-packages/selenium/webdriver/remote/webdriver.py?line=755'>756</a>\u001b[0m warnings\u001b[39m.\u001b[39mwarn(\n\u001b[0;32m    <a href='file:///c%3A/Users/Admin/AppData/Local/Programs/Python/Python310/lib/site-packages/selenium/webdriver/remote/webdriver.py?line=756'>757</a>\u001b[0m     \u001b[39m\"\u001b[39m\u001b[39mfind_element_by_class_name is deprecated. Please use find_element(by=By.CLASS_NAME, value=name) instead\u001b[39m\u001b[39m\"\u001b[39m,\n\u001b[0;32m    <a href='file:///c%3A/Users/Admin/AppData/Local/Programs/Python/Python310/lib/site-packages/selenium/webdriver/remote/webdriver.py?line=757'>758</a>\u001b[0m     \u001b[39mDeprecationWarning\u001b[39;00m,\n\u001b[0;32m    <a href='file:///c%3A/Users/Admin/AppData/Local/Programs/Python/Python310/lib/site-packages/selenium/webdriver/remote/webdriver.py?line=758'>759</a>\u001b[0m     stacklevel\u001b[39m=\u001b[39m\u001b[39m2\u001b[39m,\n\u001b[0;32m    <a href='file:///c%3A/Users/Admin/AppData/Local/Programs/Python/Python310/lib/site-packages/selenium/webdriver/remote/webdriver.py?line=759'>760</a>\u001b[0m )\n\u001b[1;32m--> <a href='file:///c%3A/Users/Admin/AppData/Local/Programs/Python/Python310/lib/site-packages/selenium/webdriver/remote/webdriver.py?line=760'>761</a>\u001b[0m \u001b[39mreturn\u001b[39;00m \u001b[39mself\u001b[39;49m\u001b[39m.\u001b[39;49mfind_element(by\u001b[39m=\u001b[39;49mBy\u001b[39m.\u001b[39;49mCLASS_NAME, value\u001b[39m=\u001b[39;49mname)\n",
      "File \u001b[1;32m~\\AppData\\Local\\Programs\\Python\\Python310\\lib\\site-packages\\selenium\\webdriver\\remote\\webdriver.py:1248\u001b[0m, in \u001b[0;36mWebDriver.find_element\u001b[1;34m(self, by, value)\u001b[0m\n\u001b[0;32m   <a href='file:///c%3A/Users/Admin/AppData/Local/Programs/Python/Python310/lib/site-packages/selenium/webdriver/remote/webdriver.py?line=1244'>1245</a>\u001b[0m     by \u001b[39m=\u001b[39m By\u001b[39m.\u001b[39mCSS_SELECTOR\n\u001b[0;32m   <a href='file:///c%3A/Users/Admin/AppData/Local/Programs/Python/Python310/lib/site-packages/selenium/webdriver/remote/webdriver.py?line=1245'>1246</a>\u001b[0m     value \u001b[39m=\u001b[39m \u001b[39m'\u001b[39m\u001b[39m[name=\u001b[39m\u001b[39m\"\u001b[39m\u001b[39m%s\u001b[39;00m\u001b[39m\"\u001b[39m\u001b[39m]\u001b[39m\u001b[39m'\u001b[39m \u001b[39m%\u001b[39m value\n\u001b[1;32m-> <a href='file:///c%3A/Users/Admin/AppData/Local/Programs/Python/Python310/lib/site-packages/selenium/webdriver/remote/webdriver.py?line=1247'>1248</a>\u001b[0m \u001b[39mreturn\u001b[39;00m \u001b[39mself\u001b[39;49m\u001b[39m.\u001b[39;49mexecute(Command\u001b[39m.\u001b[39;49mFIND_ELEMENT, {\n\u001b[0;32m   <a href='file:///c%3A/Users/Admin/AppData/Local/Programs/Python/Python310/lib/site-packages/selenium/webdriver/remote/webdriver.py?line=1248'>1249</a>\u001b[0m     \u001b[39m'\u001b[39;49m\u001b[39musing\u001b[39;49m\u001b[39m'\u001b[39;49m: by,\n\u001b[0;32m   <a href='file:///c%3A/Users/Admin/AppData/Local/Programs/Python/Python310/lib/site-packages/selenium/webdriver/remote/webdriver.py?line=1249'>1250</a>\u001b[0m     \u001b[39m'\u001b[39;49m\u001b[39mvalue\u001b[39;49m\u001b[39m'\u001b[39;49m: value})[\u001b[39m'\u001b[39m\u001b[39mvalue\u001b[39m\u001b[39m'\u001b[39m]\n",
      "File \u001b[1;32m~\\AppData\\Local\\Programs\\Python\\Python310\\lib\\site-packages\\selenium\\webdriver\\remote\\webdriver.py:425\u001b[0m, in \u001b[0;36mWebDriver.execute\u001b[1;34m(self, driver_command, params)\u001b[0m\n\u001b[0;32m    <a href='file:///c%3A/Users/Admin/AppData/Local/Programs/Python/Python310/lib/site-packages/selenium/webdriver/remote/webdriver.py?line=422'>423</a>\u001b[0m response \u001b[39m=\u001b[39m \u001b[39mself\u001b[39m\u001b[39m.\u001b[39mcommand_executor\u001b[39m.\u001b[39mexecute(driver_command, params)\n\u001b[0;32m    <a href='file:///c%3A/Users/Admin/AppData/Local/Programs/Python/Python310/lib/site-packages/selenium/webdriver/remote/webdriver.py?line=423'>424</a>\u001b[0m \u001b[39mif\u001b[39;00m response:\n\u001b[1;32m--> <a href='file:///c%3A/Users/Admin/AppData/Local/Programs/Python/Python310/lib/site-packages/selenium/webdriver/remote/webdriver.py?line=424'>425</a>\u001b[0m     \u001b[39mself\u001b[39;49m\u001b[39m.\u001b[39;49merror_handler\u001b[39m.\u001b[39;49mcheck_response(response)\n\u001b[0;32m    <a href='file:///c%3A/Users/Admin/AppData/Local/Programs/Python/Python310/lib/site-packages/selenium/webdriver/remote/webdriver.py?line=425'>426</a>\u001b[0m     response[\u001b[39m'\u001b[39m\u001b[39mvalue\u001b[39m\u001b[39m'\u001b[39m] \u001b[39m=\u001b[39m \u001b[39mself\u001b[39m\u001b[39m.\u001b[39m_unwrap_value(\n\u001b[0;32m    <a href='file:///c%3A/Users/Admin/AppData/Local/Programs/Python/Python310/lib/site-packages/selenium/webdriver/remote/webdriver.py?line=426'>427</a>\u001b[0m         response\u001b[39m.\u001b[39mget(\u001b[39m'\u001b[39m\u001b[39mvalue\u001b[39m\u001b[39m'\u001b[39m, \u001b[39mNone\u001b[39;00m))\n\u001b[0;32m    <a href='file:///c%3A/Users/Admin/AppData/Local/Programs/Python/Python310/lib/site-packages/selenium/webdriver/remote/webdriver.py?line=427'>428</a>\u001b[0m     \u001b[39mreturn\u001b[39;00m response\n",
      "File \u001b[1;32m~\\AppData\\Local\\Programs\\Python\\Python310\\lib\\site-packages\\selenium\\webdriver\\remote\\errorhandler.py:247\u001b[0m, in \u001b[0;36mErrorHandler.check_response\u001b[1;34m(self, response)\u001b[0m\n\u001b[0;32m    <a href='file:///c%3A/Users/Admin/AppData/Local/Programs/Python/Python310/lib/site-packages/selenium/webdriver/remote/errorhandler.py?line=244'>245</a>\u001b[0m         alert_text \u001b[39m=\u001b[39m value[\u001b[39m'\u001b[39m\u001b[39malert\u001b[39m\u001b[39m'\u001b[39m]\u001b[39m.\u001b[39mget(\u001b[39m'\u001b[39m\u001b[39mtext\u001b[39m\u001b[39m'\u001b[39m)\n\u001b[0;32m    <a href='file:///c%3A/Users/Admin/AppData/Local/Programs/Python/Python310/lib/site-packages/selenium/webdriver/remote/errorhandler.py?line=245'>246</a>\u001b[0m     \u001b[39mraise\u001b[39;00m exception_class(message, screen, stacktrace, alert_text)  \u001b[39m# type: ignore[call-arg]  # mypy is not smart enough here\u001b[39;00m\n\u001b[1;32m--> <a href='file:///c%3A/Users/Admin/AppData/Local/Programs/Python/Python310/lib/site-packages/selenium/webdriver/remote/errorhandler.py?line=246'>247</a>\u001b[0m \u001b[39mraise\u001b[39;00m exception_class(message, screen, stacktrace)\n",
      "\u001b[1;31mNoSuchElementException\u001b[0m: Message: no such element: Unable to locate element: {\"method\":\"css selector\",\"selector\":\".artdeco-pagination__button--next\"}\n  (Session info: chrome=101.0.4951.41)\nStacktrace:\nBacktrace:\n\tOrdinal0 [0x00378BD3+2395091]\n\tOrdinal0 [0x0030ACA1+1944737]\n\tOrdinal0 [0x001FD008+839688]\n\tOrdinal0 [0x00229BFD+1022973]\n\tOrdinal0 [0x00229EBB+1023675]\n\tOrdinal0 [0x00256A92+1206930]\n\tOrdinal0 [0x00244C04+1133572]\n\tOrdinal0 [0x00254D62+1199458]\n\tOrdinal0 [0x002449D6+1133014]\n\tOrdinal0 [0x0021EF76+978806]\n\tOrdinal0 [0x0021FE86+982662]\n\tGetHandleVerifier [0x0052C912+1719138]\n\tGetHandleVerifier [0x005DB2CD+2434333]\n\tGetHandleVerifier [0x00414001+569937]\n\tGetHandleVerifier [0x00413066+565942]\n\tOrdinal0 [0x0031265B+1975899]\n\tOrdinal0 [0x003172A8+1995432]\n\tOrdinal0 [0x00317395+1995669]\n\tOrdinal0 [0x003202F1+2032369]\n\tBaseThreadInitThunk [0x772EFA29+25]\n\tRtlGetAppContainerNamedObjectPath [0x77657A7E+286]\n\tRtlGetAppContainerNamedObjectPath [0x77657A4E+238]\n"
     ]
    }
   ],
   "source": [
    "input_page = int(input('How many pages you want to scrape: '))\n",
    "URLs_all_page = []\n",
    "for page in range(input_page):\n",
    "    URLs_one_page = GetURL()\n",
    "    #sleep(2)\n",
    "    driver.execute_script('window.scrollTo(0, document.body.scrollHeight);') #scroll to the end of the page\n",
    "    #sleep(3)\n",
    "    next_button = driver.find_element_by_class_name(\"artdeco-pagination__button--next\")\n",
    "    driver.execute_script(\"arguments[0].click();\", next_button)\n",
    "    URLs_all_page = URLs_all_page + URLs_one_page\n",
    "    #sleep(2)"
   ]
  }
 ],
 "metadata": {
  "interpreter": {
   "hash": "bfb4883d108fc92ac768439090a2e92bb9a1f760a54beeecfd6762b5dcd70fe3"
  },
  "kernelspec": {
   "display_name": "Python 3 (ipykernel)",
   "language": "python",
   "name": "python3"
  },
  "language_info": {
   "codemirror_mode": {
    "name": "ipython",
    "version": 3
   },
   "file_extension": ".py",
   "mimetype": "text/x-python",
   "name": "python",
   "nbconvert_exporter": "python",
   "pygments_lexer": "ipython3",
   "version": "3.9.7"
  }
 },
 "nbformat": 4,
 "nbformat_minor": 2
}
