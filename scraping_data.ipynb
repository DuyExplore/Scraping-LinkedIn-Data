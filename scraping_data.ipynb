{
 "cells": [
  {
   "cell_type": "code",
   "execution_count": 1,
   "metadata": {},
   "outputs": [
    {
     "name": "stdout",
     "output_type": "stream",
     "text": [
      "-Finish full package\n"
     ]
    }
   ],
   "source": [
    "# import libraries \n",
    "\n",
    "from selenium import webdriver\n",
    "from selenium.webdriver.common.keys import Keys\n",
    "from bs4 import BeautifulSoup\n",
    "from time import sleep\n",
    "import csv\n",
    "\n",
    "print('-Finish full package')"
   ]
  },
  {
   "cell_type": "code",
   "execution_count": 2,
   "metadata": {},
   "outputs": [],
   "source": [
    "credential = open('login_credential.txt')\n",
    "line = credential.readlines()\n",
    "username = line[0]\n",
    "password = line[1]"
   ]
  },
  {
   "cell_type": "code",
   "execution_count": 3,
   "metadata": {},
   "outputs": [
    {
     "name": "stderr",
     "output_type": "stream",
     "text": [
      "C:\\Users\\Admin\\AppData\\Local\\Temp\\ipykernel_9752\\666611445.py:4: DeprecationWarning: executable_path has been deprecated, please pass in a Service object\n",
      "  driver = webdriver.Chrome(r\"C:\\Users\\Default\\chromedriver.exe\")\n"
     ]
    },
    {
     "name": "stdout",
     "output_type": "stream",
     "text": [
      "- Finish initializing a driver\n"
     ]
    },
    {
     "name": "stderr",
     "output_type": "stream",
     "text": [
      "C:\\Users\\Admin\\AppData\\Local\\Temp\\ipykernel_9752\\666611445.py:10: DeprecationWarning: find_element_by_* commands are deprecated. Please use find_element() instead\n",
      "  email_field = driver.find_element_by_id(\"username\")\n"
     ]
    },
    {
     "name": "stdout",
     "output_type": "stream",
     "text": [
      "- Finish key in username\n"
     ]
    },
    {
     "name": "stderr",
     "output_type": "stream",
     "text": [
      "C:\\Users\\Admin\\AppData\\Local\\Temp\\ipykernel_9752\\666611445.py:15: DeprecationWarning: find_element_by_name is deprecated. Please use find_element(by=By.NAME, value=name) instead\n",
      "  password_field = driver.find_element_by_name(\"session_password\")\n"
     ]
    },
    {
     "name": "stdout",
     "output_type": "stream",
     "text": [
      "- Finish key in password\n"
     ]
    },
    {
     "name": "stderr",
     "output_type": "stream",
     "text": [
      "C:\\Users\\Admin\\AppData\\Local\\Temp\\ipykernel_9752\\666611445.py:20: DeprecationWarning: find_element_by_xpath is deprecated. Please use find_element(by=By.XPATH, value=xpath) instead\n",
      "  login_field = driver.find_element_by_xpath('//*[@id=\"organic-div\"]/form/div[3]/button')\n"
     ]
    },
    {
     "name": "stdout",
     "output_type": "stream",
     "text": [
      "- Finish logging in\n"
     ]
    },
    {
     "name": "stderr",
     "output_type": "stream",
     "text": [
      "C:\\Users\\Admin\\AppData\\Local\\Temp\\ipykernel_9752\\666611445.py:28: DeprecationWarning: find_element_by_xpath is deprecated. Please use find_element(by=By.XPATH, value=xpath) instead\n",
      "  search_field = driver.find_element_by_xpath('//*[@id=\"global-nav-typeahead\"]/input')\n"
     ]
    },
    {
     "name": "stdout",
     "output_type": "stream",
     "text": [
      "Finish searching...\n"
     ]
    }
   ],
   "source": [
    "# Step 1: Login to Linkedin\n",
    "\n",
    "# Open Chrome and login LinkedIn login site\n",
    "driver = webdriver.Chrome(r\"C:\\Users\\Default\\chromedriver.exe\")\n",
    "url = 'https://www.linkedin.com/login'\n",
    "driver.get(url)\n",
    "print('- Finish initializing a driver')\n",
    "sleep(2)\n",
    "# Key in username\n",
    "email_field = driver.find_element_by_id(\"username\")\n",
    "email_field.send_keys(username)\n",
    "print('- Finish key in username')\n",
    "sleep(2)\n",
    "# Key in password\n",
    "password_field = driver.find_element_by_name(\"session_password\")\n",
    "password_field.send_keys(password)\n",
    "print('- Finish key in password')\n",
    "sleep(2)\n",
    "# Click login button\n",
    "login_field = driver.find_element_by_xpath('//*[@id=\"organic-div\"]/form/div[3]/button')\n",
    "login_field.click()\n",
    "print('- Finish logging in')\n",
    "sleep(2)\n",
    "\n",
    "# Step 2: Search for the profile we want to crawl\n",
    "\n",
    "# Locate the search bar element\n",
    "search_field = driver.find_element_by_xpath('//*[@id=\"global-nav-typeahead\"]/input')\n",
    "\n",
    "# Input the search query to the search bar\n",
    "#search_query = input('What do you to scrape?')\n",
    "search_field.send_keys('data analyst people')\n",
    "\n",
    "# Search \n",
    "search_field.send_keys(Keys.RETURN) \n",
    "\n",
    "# Print the processing\n",
    "print('Finish searching...')\n",
    "\n"
   ]
  },
  {
   "cell_type": "code",
   "execution_count": 4,
   "metadata": {},
   "outputs": [
    {
     "name": "stderr",
     "output_type": "stream",
     "text": [
      "C:\\Users\\Admin\\AppData\\Local\\Temp\\ipykernel_9752\\2820703624.py:2: DeprecationWarning: find_element_by_xpath is deprecated. Please use find_element(by=By.XPATH, value=xpath) instead\n",
      "  filter_search = driver.find_element_by_xpath('//*[@id=\"main\"]/div/div/div[1]/div[2]/a')\n"
     ]
    }
   ],
   "source": [
    "# Filter result\n",
    "filter_search = driver.find_element_by_xpath('//*[@id=\"main\"]/div/div/div[1]/div[2]/a')\n",
    "filter_search.click()\n"
   ]
  },
  {
   "cell_type": "code",
   "execution_count": 5,
   "metadata": {},
   "outputs": [],
   "source": [
    "# Step 3: Scrape the URLs of the profiles\n",
    "def GetURL():\n",
    "    page_source = BeautifulSoup(driver.page_source)\n",
    "    profiles = page_source.find_all('a', class_= 'app-aware-link')\n",
    "    all_profile_URL = []\n",
    "    for profile in profiles:\n",
    "        profile_URL = profile.get('href')\n",
    "        profile_URL = profile_URL.split('?', 1)[0]\n",
    "        all_profile_URL.append(profile_URL)\n",
    "        if profile_URL not in all_profile_URL:\n",
    "            all_profile_URL.append(profile_URL)\n",
    "    all_profile_URL = list(set(all_profile_URL))\n",
    "    return all_profile_URL\n",
    "\n",
    "# def GetURL():\n",
    "#     page_source = BeautifulSoup(driver.page_source)\n",
    "#     profiles = page_source.find_all('a', class_ = 'search-result__result-link ember-view')\n",
    "#     all_profile_URL = []\n",
    "#     for profile in profiles:\n",
    "#         profile_ID = profile.get('href')\n",
    "#         profile_URL = \"https://www.linkedin.com\" + profile_ID\n",
    "#         if profile_URL not in all_profile_URL:\n",
    "#             all_profile_URL.append(profile_URL)\n",
    "#     return all_profile_URL\n",
    "def GetURLsonPage():\n",
    "    input_page = 2  #int(input('How many pages you want to scrape: '))\n",
    "    URLs_all_page = []\n",
    "    for page in range(input_page):\n",
    "        URLs_one_page = GetURL()\n",
    "        sleep(2)\n",
    "        driver.execute_script('window.scrollTo(0, document.body.scrollHeight);') #scroll to the end of the page\n",
    "        sleep(3)\n",
    "        next_button = driver.find_element_by_css_selector('button.artdeco-pagination__button--next')\n",
    "        driver.execute_script(\"arguments[0].click();\", next_button)\n",
    "        URLs_all_page = URLs_all_page + URLs_one_page\n",
    "        sleep(2)\n",
    "    return URLs_all_page\n",
    "\n"
   ]
  },
  {
   "cell_type": "code",
   "execution_count": 6,
   "metadata": {},
   "outputs": [
    {
     "name": "stderr",
     "output_type": "stream",
     "text": [
      "C:\\Users\\Admin\\AppData\\Local\\Temp\\ipykernel_9752\\3397607267.py:33: DeprecationWarning: find_element_by_css_selector is deprecated. Please use find_element(by=By.CSS_SELECTOR, value=css_selector) instead\n",
      "  next_button = driver.find_element_by_css_selector('button.artdeco-pagination__button--next')\n"
     ]
    },
    {
     "name": "stdout",
     "output_type": "stream",
     "text": [
      "['https://www.linkedin.com/in/trinh-le-247994b4', 'https://www.linkedin.com/in/khangnguyennhat20', 'https://www.linkedin.com/in/kevinkhang2909', 'https://www.linkedin.com/in/tuanhlam', 'https://www.linkedin.com/in/thao-nguyen-791980113', 'https://www.linkedin.com/in/thanhdiep23', 'https://www.linkedin.com/in/trucnguyen1112', 'https://www.linkedin.com/in/linh-nguyen-44b104131', 'https://www.linkedin.com/in/ho-ngoc-thang', 'https://www.linkedin.com/in/vuhathu', 'https://www.linkedin.com/in/my-tran-8212b4b5', 'https://www.linkedin.com/in/hanhle1991', 'https://www.linkedin.com/in/duong-le-40766070', 'https://www.linkedin.com/in/nguyentthienbku', 'https://www.linkedin.com/in/tam-nguyen-3a8a20ba', 'https://www.linkedin.com/in/duong-truong-4b1150a9', 'https://www.linkedin.com/in/loandangnt']\n"
     ]
    }
   ],
   "source": [
    "# profile_ID = \"/in/thao-nguyen-791980113\"\n",
    "# profile_url = \"https://www.linkedin.com\" + profile_ID\n",
    "# print(profile_url)\n",
    "URLs_all_page = GetURLsonPage()\n",
    "for URL in URLs_all_page:\n",
    "    if URL == 'https://www.linkedin.com/search/results/people/headless':\n",
    "        URLs_all_page.remove(URL)\n",
    "    elif URL == 'https://www.linkedin.com/search/results/people/headless':\n",
    "        URLs_all_page.remove(URL)\n",
    "\n",
    "print(URLs_all_page)"
   ]
  },
  {
   "cell_type": "code",
   "execution_count": 7,
   "metadata": {},
   "outputs": [
    {
     "name": "stdout",
     "output_type": "stream",
     "text": [
      "- Accessing profile:  https://www.linkedin.com/in/trinh-le-247994b4\n",
      "--- Profile name is:  Trinh Le\n",
      "--- Profile location is:  Vietnam\n",
      "--- Profile title is:  Senior Data Analyst at HCVN\n",
      "\n",
      "\n",
      "- Accessing profile:  https://www.linkedin.com/in/khangnguyennhat20\n",
      "--- Profile name is:  Nhat Khang NGUYEN\n",
      "--- Profile location is:  Vietnam\n",
      "--- Profile title is:  Senior Data Analyst at Vietnam International Bank (VIB)\n",
      "\n",
      "\n",
      "- Accessing profile:  https://www.linkedin.com/in/kevinkhang2909\n",
      "--- Profile name is:  Kevin Khang\n",
      "--- Profile location is:  Ho Chi Minh City Metropolitan Area\n",
      "--- Profile title is:  Senior Data Analyst at Shopee\n",
      "\n",
      "\n",
      "- Accessing profile:  https://www.linkedin.com/in/tuanhlam\n",
      "--- Profile name is:  Anh Lam\n",
      "--- Profile location is:  District 7, Ho Chi Minh City, Vietnam\n",
      "--- Profile title is:  People Data Analyst at RMIT University Vietnam\n",
      "\n",
      "\n",
      "- Accessing profile:  https://www.linkedin.com/in/thao-nguyen-791980113\n",
      "--- Profile name is:  Thao Nguyen\n",
      "--- Profile location is:  Vietnam\n",
      "--- Profile title is:  Data Analyst at FLIX Vietnam\n",
      "\n",
      "\n",
      "- Accessing profile:  https://www.linkedin.com/in/thanhdiep23\n",
      "--- Profile name is:  Diep Nguyen (Chloe)\n",
      "--- Profile location is:  Ho Chi Minh City, Vietnam\n",
      "--- Profile title is:  Data Reporting Analyst of VTC Workforce Planning at NAB\n",
      "\n",
      "\n",
      "- Accessing profile:  https://www.linkedin.com/in/trucnguyen1112\n",
      "--- Profile name is:  Shino Nguyen\n",
      "--- Profile location is:  Vietnam\n",
      "--- Profile title is:  People Data Analyst - HR Systems & Planning Team of RUVN\n",
      "\n",
      "\n",
      "- Accessing profile:  https://www.linkedin.com/in/linh-nguyen-44b104131\n",
      "--- Profile name is:  Linh Nguyen\n",
      "--- Profile location is:  Bình Thạnh, Ho Chi Minh City, Vietnam\n",
      "--- Profile title is:  Data Analyst\n",
      "\n",
      "\n",
      "- Accessing profile:  https://www.linkedin.com/in/ho-ngoc-thang\n",
      "--- Profile name is:  Ngoc Thang Ho\n",
      "--- Profile location is:  Ho Chi Minh City, Vietnam\n",
      "--- Profile title is:  Data Scientist at Shinhan Vietnam Bank Ltd.\n",
      "\n",
      "\n",
      "- Accessing profile:  https://www.linkedin.com/in/vuhathu\n",
      "--- Profile name is:  Thu (Ino) Vu\n",
      "--- Profile location is:  Vietnam\n",
      "--- Profile title is:  Data Scientist\n",
      "\n",
      "\n",
      "- Accessing profile:  https://www.linkedin.com/in/my-tran-8212b4b5\n",
      "--- Profile name is:  My Tran\n",
      "--- Profile location is:  Vietnam\n",
      "--- Profile title is:  Data Analyst at KromLab\n",
      "\n",
      "\n",
      "- Accessing profile:  https://www.linkedin.com/in/hanhle1991\n",
      "--- Profile name is:  Le Nguyen\n",
      "--- Profile location is:  Vietnam\n",
      "--- Profile title is:  BI Data Analyst at Singapore Airlines\n",
      "\n",
      "\n",
      "- Accessing profile:  https://www.linkedin.com/in/duong-le-40766070\n",
      "--- Profile name is:  Duong Le\n",
      "--- Profile location is:  Vietnam\n",
      "--- Profile title is:  Data Analyst at Techcom Securities\n",
      "\n",
      "\n",
      "- Accessing profile:  https://www.linkedin.com/in/nguyentthienbku\n",
      "--- Profile name is:  Hien Nguyen\n",
      "--- Profile location is:  Vietnam\n",
      "--- Profile title is:  Data Analyst at VietCredit Finance Company\n",
      "\n",
      "\n",
      "- Accessing profile:  https://www.linkedin.com/in/tam-nguyen-3a8a20ba\n",
      "--- Profile name is:  Tam Nguyen\n",
      "--- Profile location is:  Vietnam\n",
      "--- Profile title is:  PQA Executive/ Data Analyst\n",
      "\n",
      "\n",
      "- Accessing profile:  https://www.linkedin.com/in/duong-truong-4b1150a9\n",
      "--- Profile name is:  Duong Truong\n",
      "--- Profile location is:  Ho Chi Minh City, Vietnam\n",
      "--- Profile title is:  Senior Data Analyst at ZaloPay\n",
      "\n",
      "\n",
      "- Accessing profile:  https://www.linkedin.com/in/loandangnt\n",
      "--- Profile name is:  Loan Dang (Sunny)\n",
      "--- Profile location is:  Ho Chi Minh City, Vietnam\n",
      "--- Profile title is:  Data Analyst | MBA Graduate\n",
      "\n",
      "\n",
      "Mission Completed!\n"
     ]
    }
   ],
   "source": [
    "\n",
    "with open('output.csv', 'w',  newline = '', encoding='utf-8') as file_output:\n",
    "    headers = ['Name', 'Location', 'Job Title', 'URL']\n",
    "    writer = csv.DictWriter(file_output, delimiter=',', lineterminator='\\n',fieldnames=headers)\n",
    "    writer.writeheader()\n",
    "    for linkedin_URL in URLs_all_page:\n",
    "        driver.get(linkedin_URL)\n",
    "        print('- Accessing profile: ', linkedin_URL)\n",
    "\n",
    "        page_source = BeautifulSoup(driver.page_source, \"html.parser\")\n",
    "\n",
    "        info_div = page_source.find('div', class_=\"mt2 relative\")\n",
    "        sleep(3)\n",
    "        info_loc = info_div.find_all('div')\n",
    "        sleep(3)\n",
    "        name = info_loc[0].find('h1', class_='text-heading-xlarge inline t-24 v-align-middle break-words',).get_text().strip() #Remove unnecessary characters \n",
    "        print('--- Profile name is: ', name)\n",
    "        location = info_div.find('span', class_= 'text-body-small inline t-black--light break-words').get_text().strip() #Remove unnecessary characters \n",
    "        print('--- Profile location is: ', location)\n",
    "        title = info_div.find('div', class_ = 'text-body-medium break-words').get_text().strip()\n",
    "        print('--- Profile title is: ', title)\n",
    "        writer.writerow({headers[0]:name, headers[1]:location, headers[2]:title, headers[3]:linkedin_URL})\n",
    "        print('\\n')\n",
    "\n",
    "print('Mission Completed!')"
   ]
  },
  {
   "cell_type": "code",
   "execution_count": 77,
   "metadata": {},
   "outputs": [
    {
     "name": "stdout",
     "output_type": "stream",
     "text": [
      "Vietnam\n"
     ]
    }
   ],
   "source": [
    "info_div = page_source.find('div', class_=\"mt2 relative\")\n",
    "info_loc = info_div.find_all('div')\n",
    "name = info_loc[0].find('h1', class_='text-heading-xlarge inline t-24 v-align-middle break-words',).get_text().strip()\n",
    "location = info_div.find('span', class_= 'text-body-small inline t-black--light break-words').get_text().strip()\n",
    "title = info_div.find('div', class_ = 'text-body-medium break-words').get_text().strip()\n",
    "print(location)"
   ]
  }
 ],
 "metadata": {
  "interpreter": {
   "hash": "bfb4883d108fc92ac768439090a2e92bb9a1f760a54beeecfd6762b5dcd70fe3"
  },
  "kernelspec": {
   "display_name": "Python 3 (ipykernel)",
   "language": "python",
   "name": "python3"
  },
  "language_info": {
   "codemirror_mode": {
    "name": "ipython",
    "version": 3
   },
   "file_extension": ".py",
   "mimetype": "text/x-python",
   "name": "python",
   "nbconvert_exporter": "python",
   "pygments_lexer": "ipython3",
   "version": "3.10.4"
  }
 },
 "nbformat": 4,
 "nbformat_minor": 2
}
